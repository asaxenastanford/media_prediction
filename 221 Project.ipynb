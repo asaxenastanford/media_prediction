{
 "cells": [
  {
   "cell_type": "code",
   "execution_count": 2,
   "metadata": {},
   "outputs": [
    {
     "name": "stdout",
     "output_type": "stream",
     "text": [
      "[name: \"/device:CPU:0\"\n",
      "device_type: \"CPU\"\n",
      "memory_limit: 268435456\n",
      "locality {\n",
      "}\n",
      "incarnation: 8423314075017657475\n",
      ", name: \"/device:GPU:0\"\n",
      "device_type: \"GPU\"\n",
      "memory_limit: 1416668364\n",
      "locality {\n",
      "  bus_id: 1\n",
      "  links {\n",
      "  }\n",
      "}\n",
      "incarnation: 18279357451731415240\n",
      "physical_device_desc: \"device: 0, name: GeForce GTX 1050, pci bus id: 0000:01:00.0, compute capability: 6.1\"\n",
      "]\n"
     ]
    },
    {
     "data": {
      "text/plain": [
       "True"
      ]
     },
     "execution_count": 2,
     "metadata": {},
     "output_type": "execute_result"
    }
   ],
   "source": [
    "\n",
    "import os\n",
    "#os.environ[\"CUDA_DEVICE_ORDER\"] = \"PCI_BUS_ID\"   # see issue #152\n",
    "#os.environ[\"CUDA_VISIBLE_DEVICES\"] = '-1'\n",
    "import tensorflow.keras as tfk\n",
    "import xlrd\n",
    "import numpy as np\n",
    "import nltk\n",
    "from nltk.corpus import stopwords\n",
    "import sys\n",
    "import string\n",
    "import tensorflow as tf\n",
    "sess = tf.Session(config=tf.ConfigProto(log_device_placement=True))\n",
    "from tensorflow.python.client import device_lib\n",
    "print(device_lib.list_local_devices())\n",
    "tf.test.is_gpu_available()"
   ]
  },
  {
   "cell_type": "code",
   "execution_count": null,
   "metadata": {},
   "outputs": [],
   "source": [
    "###\n",
    "# RUN ONLY ONE TIME, LOADS RAW DATA\n",
    "###\n",
    "\n",
    "train = xlrd.open_workbook('train_data_final.xlsx')\n",
    "test = xlrd.open_workbook('test_data_mod.xlsx')\n",
    "trainsheet = train.sheet_by_index(0)\n",
    "testsheet = test.sheet_by_index(0)\n",
    "pub = []\n",
    "pub_t = []\n",
    "content = []\n",
    "content_t = []\n",
    "indeces = list(range(trainsheet.nrows -1))\n",
    "indeces_t = list(range(testsheet.nrows -1))\n",
    "np.random.shuffle(indeces)\n",
    "for r in indeces:\n",
    "    pub.append(trainsheet.cell_value(r,0))\n",
    "    content.append(trainsheet.cell_value(r,1))\n",
    "for r in indeces_t:\n",
    "    pub_t.append(testsheet.cell_value(r,0))\n",
    "    content_t.append(testsheet.cell_value(r,1))"
   ]
  },
  {
   "cell_type": "code",
   "execution_count": 3,
   "metadata": {},
   "outputs": [],
   "source": [
    "stop = stopwords.words('english')\n",
    "vocab = 50000\n"
   ]
  },
  {
   "cell_type": "code",
   "execution_count": null,
   "metadata": {},
   "outputs": [],
   "source": [
    "###\n",
    "# RUN ONE TIME, WRITES PROCESSED DATA TO FILES TO SAVE TIME \n",
    "###\n",
    "content_arrs = []\n",
    "content_arrs_t = []\n",
    "content_arrs = []\n",
    "content_arrs_t = []\n",
    "\n",
    "contentFile = open(\"content.txt\", \"w+\")\n",
    "contentFile_t = open(\"content_t.txt\", \"w+\")\n",
    "pubFile = open(\"pub.txt\", \"w+\")\n",
    "pubFile_t = open(\"pub_t.txt\", \"w+\")\n",
    "for i in range(len(content)):\n",
    "    con = content[i]\n",
    "    contentClean = ' '.join([word for word in nltk.word_tokenize(con.lower()) if word not in stop and (word.isalpha() or len(word) > 1)])\n",
    "    oneHot = tfk.preprocessing.text.one_hot(contentClean, n=vocab)\n",
    "    content_arrs.append(oneHot)\n",
    "    for d in oneHot:\n",
    "        contentFile.write('%d ' % d)\n",
    "    contentFile.write('\\n')\n",
    "    pubFile.write('%s\\n' % pub[i])\n",
    "    sys.stdout.write(\"\\r\" + str(i))\n",
    "    sys.stdout.flush()\n",
    "    \n",
    "for i in range(len(content_t)):\n",
    "    con = content_t[i]\n",
    "    contentClean = ' '.join([word for word in nltk.word_tokenize(con.lower()) if word not in stop and (word.isalpha() or len(word) > 1)])\n",
    "    oneHot = tfk.preprocessing.text.one_hot(contentClean, n=vocab)\n",
    "    for d in oneHot:\n",
    "        contentFile_t.write('%d ' % d)\n",
    "    contentFile_t.write('\\n')\n",
    "    pubFile_t.write('%s\\n' % pub_t[i])\n",
    "    content_arrs_t.append(oneHot)\n",
    "    sys.stdout.write(\"\\r\" + str(i))\n",
    "    sys.stdout.flush()\n",
    "\n",
    "    \n",
    "contentFile.close()\n",
    "contentFile_t.close()\n",
    "pubFile.close()\n",
    "pubFile_t.close()"
   ]
  },
  {
   "cell_type": "code",
   "execution_count": 4,
   "metadata": {},
   "outputs": [],
   "source": [
    "# LOAD FROM PRREPROCESSED DATA\n",
    "content_arrs = []\n",
    "content_arrs_t = []\n",
    "contentFile = open(\"content.txt\")\n",
    "content_arrs = contentFile.readlines()\n",
    "contentFile_t = open(\"content_t.txt\")\n",
    "content_arrs_t = contentFile_t.readlines()\n",
    "pubFile = open(\"pub.txt\")\n",
    "pubFile_t = open(\"pub_t.txt\")\n",
    "\n",
    "pub = pubFile.readlines()\n",
    "pub_t = pubFile_t.readlines()\n",
    "for i in range(len(content_arrs)):\n",
    "    content_arrs[i] = content_arrs[i].split(' ')[0:-1]\n",
    "    for j in range(len(content_arrs[i])):\n",
    "        content_arrs[i][j] = float(content_arrs[i][j])\n",
    "        \n",
    "for i in range(len(content_arrs_t)):\n",
    "    content_arrs_t[i] = content_arrs_t[i].split(' ')[0:-1]\n",
    "    for j in range(len(content_arrs_t[i])):\n",
    "        content_arrs_t[i][j] = float(content_arrs_t[i][j])\n"
   ]
  },
  {
   "cell_type": "code",
   "execution_count": 23,
   "metadata": {},
   "outputs": [
    {
     "name": "stdout",
     "output_type": "stream",
     "text": [
      "{'Atlantic\\n': 0, 'Breitbart\\n': 1, 'Business Insider\\n': 2, 'Buzzfeed News\\n': 3, 'CNN\\n': 4, 'Fox News\\n': 5, 'Guardian\\n': 6, 'NPR\\n': 7, 'National Review\\n': 8, 'New York Post\\n': 9, 'New York Times\\n': 10, 'Reuters\\n': 11, 'Talking Points Memo\\n': 12, 'Vox\\n': 13, 'Washington Post\\n': 14}\n"
     ]
    }
   ],
   "source": [
    "# MAPS A NUMBER TO EACH PUBLICATION FOR USE w/ to_categorical\n",
    "targetMap = dict([(y,x) for x,y in enumerate(sorted(set(pub)))])\n",
    "print(targetMap)\n",
    "for i in range(len(pub)):\n",
    "    pub[i] = targetMap[pub[i]]\n",
    "\n",
    "for i in range(len(pub_t)):\n",
    "    pub_t[i] = targetMap[pub_t[i]]"
   ]
  },
  {
   "cell_type": "code",
   "execution_count": 24,
   "metadata": {},
   "outputs": [],
   "source": [
    "long = 0\n",
    "for con in content_arrs:\n",
    "    if len(con) > long:\n",
    "        long = len(con)\n",
    "        \n",
    "for con in content_arrs_t:\n",
    "    if len(con) > long:\n",
    "        long = len(con)\n",
    "long = 750 # Sets max length to prevent GPU memory exhaustion (used across the board)\n",
    "padded_arrs = tfk.preprocessing.sequence.pad_sequences(content_arrs, maxlen=long, padding='post')\n",
    "padded_arrs_t = tfk.preprocessing.sequence.pad_sequences(content_arrs_t, maxlen=long, padding='post')\n"
   ]
  },
  {
   "cell_type": "code",
   "execution_count": 36,
   "metadata": {},
   "outputs": [],
   "source": [
    "# Base RNN Model\n",
    "model = tfk.models.Sequential()\n",
    "model.add(tfk.layers.Embedding(vocab, 100, input_length=long))\n",
    "model.add(tfk.layers.Dropout(.3))\n",
    "model.add(tfk.layers.CuDNNGRU(40, return_sequences=True))\n",
    "model.add(tfk.layers.CuDNNGRU(40))\n",
    "model.add(tfk.layers.Dropout(.3))\n",
    "model.add(tfk.layers.Dense(64, activation = 'relu'))\n",
    "model.add(tfk.layers.Dense(15, activation='softmax'))\n",
    "model.compile(loss='categorical_crossentropy', optimizer = 'adam', metrics=['accuracy'])"
   ]
  },
  {
   "cell_type": "code",
   "execution_count": null,
   "metadata": {},
   "outputs": [],
   "source": [
    "# Base CNN Model\n",
    "model = tfk.models.Sequential()\n",
    "model.add(tfk.layers.Embedding(vocab, 100, input_length=long))\n",
    "model.add(tfk.layers.Conv1D(128, 1, activation = 'relu'))\n",
    "model.add(tfk.layers.MaxPooling1D(1))\n",
    "model.add(tfk.layers.Conv1D(128, 5, activation = 'relu'))\n",
    "model.add(tfk.layers.MaxPooling1D(5))\n",
    "model.add(tfk.layers.Conv1D(128, 5, activation = 'relu'))\n",
    "model.add(tfk.layers.MaxPooling1D(25)) # Corresponds w/ max length as global maxpool\n",
    "model.add(tfk.layers.Flatten())\n",
    "model.add(tfk.layers.Dense(128, activation = 'relu'))\n",
    "model.add(tfk.layers.Dense(15, activation = 'softmax'))\n",
    "model.compile(loss='categorical_crossentropy', optimizer = 'adam', metrics = ['accuracy'])\n"
   ]
  },
  {
   "cell_type": "code",
   "execution_count": null,
   "metadata": {},
   "outputs": [],
   "source": [
    "weights = model.get_weights()"
   ]
  },
  {
   "cell_type": "code",
   "execution_count": 37,
   "metadata": {
    "scrolled": true
   },
   "outputs": [
    {
     "name": "stdout",
     "output_type": "stream",
     "text": [
      "Begin fit\n",
      "(98711, 750)\n",
      "[[23548 32894 34723 ...     0     0     0]\n",
      " [ 1092 20251 32562 ...     0     0     0]\n",
      " [20251 38160 34520 ...     0     0     0]\n",
      " ...\n",
      " [17774 31599 38589 ...     0     0     0]\n",
      " [  354  7786  2853 ...     0     0     0]\n",
      " [16961 45171 43849 ...     0     0     0]]\n",
      "Train on 78968 samples, validate on 19743 samples\n",
      "Epoch 1/3\n",
      "78968/78968 [==============================] - 51s 649us/sample - loss: 1.2545 - acc: 0.6057 - val_loss: 0.9333 - val_acc: 0.7107\n",
      "Epoch 2/3\n",
      "78968/78968 [==============================] - 50s 636us/sample - loss: 0.1737 - acc: 0.9513 - val_loss: 1.1778 - val_acc: 0.6835\n",
      "Epoch 3/3\n",
      "78968/78968 [==============================] - 49s 621us/sample - loss: 0.0179 - acc: 0.9968 - val_loss: 1.4014 - val_acc: 0.6853\n"
     ]
    }
   ],
   "source": [
    "print('Begin fit')\n",
    "print(np.shape(padded_arrs))\n",
    "print(padded_arrs)\n",
    "history = model.fit(padded_arrs, tfk.utils.to_categorical(pub), batch_size=50, epochs=3, validation_split=0.2, shuffle=True, verbose=1)"
   ]
  },
  {
   "cell_type": "code",
   "execution_count": null,
   "metadata": {},
   "outputs": [],
   "source": [
    "model.set_weights(weights) # make sure weights are always reinitialized"
   ]
  },
  {
   "cell_type": "code",
   "execution_count": 27,
   "metadata": {},
   "outputs": [
    {
     "name": "stdout",
     "output_type": "stream",
     "text": [
      "43732/43732 [==============================] - 49s 1ms/sample - loss: 0.6816 - acc: 0.7941\n",
      "Accuracy: 79.413247\n",
      "Loss: 0.681578\n"
     ]
    }
   ],
   "source": [
    "loss, accuracy = model.evaluate(padded_arrs_t, tfk.utils.to_categorical(pub_t), verbose=1)\n",
    "print('Accuracy: %f' % (accuracy*100))\n",
    "print('Loss: %f' % (loss))"
   ]
  },
  {
   "cell_type": "code",
   "execution_count": 39,
   "metadata": {
    "scrolled": true
   },
   "outputs": [
    {
     "name": "stdout",
     "output_type": "stream",
     "text": [
      "<tensorflow.python.keras.callbacks.History object at 0x00000254271A3D30>\n"
     ]
    },
    {
     "data": {
      "image/png": "[encoded data removed]",
      "text/plain": [
       "<Figure size 576x432 with 1 Axes>"
      ]
     },
     "metadata": {
      "needs_background": "light"
     },
     "output_type": "display_data"
    },
    {
     "name": "stdout",
     "output_type": "stream",
     "text": [
      "[0.6057137, 0.9512587, 0.9968088]\n",
      "[0.71073294, 0.68353343, 0.6852555]\n",
      "[1.2545048947635784, 0.17366408200167657, 0.017929908796978093]\n",
      "[0.9333239869796559, 1.1777990363394484, 1.4014459850366299]\n"
     ]
    },
    {
     "data": {
      "image/png": "[encoded data removed]",
      "text/plain": [
       "<Figure size 576x432 with 1 Axes>"
      ]
     },
     "metadata": {
      "needs_background": "light"
     },
     "output_type": "display_data"
    }
   ],
   "source": [
    "from matplotlib import pyplot as plt\n",
    "print(history)\n",
    "plt.figure(figsize=(8,6))\n",
    "plt.plot(history.history['acc'])\n",
    "plt.plot(history.history['val_acc'])\n",
    "plt.title('CNN model accuracy')\n",
    "plt.ylabel('accuracy')\n",
    "plt.xlabel('epoch')\n",
    "plt.legend(['train', 'validation'], loc='upper left')\n",
    "plt.show()\n",
    "print(history.history['acc'])\n",
    "print(history.history['val_acc'])\n",
    "print(history.history['loss'])\n",
    "print(history.history['val_loss'])\n",
    "# summarize history for loss\n",
    "plt.figure(figsize=(8,6))\n",
    "plt.plot(history.history['loss'])\n",
    "plt.plot(history.history['val_loss'])\n",
    "plt.title('CNN model loss')\n",
    "plt.ylabel('loss')\n",
    "plt.xlabel('epoch')\n",
    "plt.legend(['train', 'validation'], loc='upper left')\n",
    "plt.show()\n"
   ]
  }
 ],
 "metadata": {
  "kernelspec": {
   "display_name": "Python 3",
   "language": "python",
   "name": "python3"
  },
  "language_info": {
   "codemirror_mode": {
    "name": "ipython",
    "version": 3
   },
   "file_extension": ".py",
   "mimetype": "text/x-python",
   "name": "python",
   "nbconvert_exporter": "python",
   "pygments_lexer": "ipython3",
   "version": "3.7.3"
  }
 },
 "nbformat": 4,
 "nbformat_minor": 2
}
